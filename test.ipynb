{
 "cells": [
  {
   "cell_type": "code",
   "execution_count": null,
   "metadata": {
    "vscode": {
     "languageId": "plaintext"
    }
   },
   "outputs": [],
   "source": [
    "import os\n",
    "import librosa\n",
    "import numpy as np\n",
    "import tensorflow as tf\n",
    "import matplotlib.pyplot as plt\n",
    "import seaborn as sns\n",
    "from tensorflow.image import resize"
   ]
  },
  {
   "cell_type": "code",
   "execution_count": null,
   "metadata": {},
   "outputs": [],
   "source": [
    "model = tf.keras.models.load_model(\"Trained_model.keras\")"
   ]
  },
  {
   "cell_type": "code",
   "execution_count": null,
   "metadata": {},
   "outputs": [],
   "source": [
    "classes = ['blues', 'classical','country','disco','hiphop','jazz','metal','pop','reggae','rock']"
   ]
  },
  {
   "cell_type": "code",
   "execution_count": null,
   "metadata": {},
   "outputs": [],
   "source": [
    "def load_and_preprocess_data(file_path, target_shape=(150, 150)):\n",
    "    data = []\n",
    "    audio_data, sample_rate = librosa.load(file_path, sr=None)\n",
    "    chunk_duration = 4  \n",
    "    overlap_duration = 2 \n",
    "                \n",
    "    chunk_samples = chunk_duration * sample_rate\n",
    "    overlap_samples = overlap_duration * sample_rate\n",
    "                \n",
    "    num_chunks = int(np.ceil((len(audio_data) - chunk_samples) / (chunk_samples - overlap_samples))) + 1\n",
    "                \n",
    "    # Iterate over each chunk\n",
    "    for i in range(num_chunks):\n",
    "        start = i * (chunk_samples - overlap_samples)\n",
    "        end = start + chunk_samples\n",
    "                    \n",
    "        chunk = audio_data[start:end]\n",
    "                    \n",
    "        mel_spectrogram = librosa.feature.melspectrogram(y=chunk, sr=sample_rate)\n",
    "                    \n",
    "        mel_spectrogram = resize(np.expand_dims(mel_spectrogram, axis=-1), target_shape)\n",
    "        data.append(mel_spectrogram)\n",
    "    \n",
    "    return np.array(data)"
   ]
  },
  {
   "cell_type": "code",
   "execution_count": null,
   "metadata": {},
   "outputs": [],
   "source": [
    "from IPython.display import Audio\n",
    "file_path = \"./Test/bensound-allthewayup-rock.mp3\"\n",
    "y, sr = librosa.load(file_path, sr=44100)\n",
    "Audio(data=y, rate=sr)"
   ]
  }
 ],
 "metadata": {
  "language_info": {
   "name": "python"
  }
 },
 "nbformat": 4,
 "nbformat_minor": 2
}
